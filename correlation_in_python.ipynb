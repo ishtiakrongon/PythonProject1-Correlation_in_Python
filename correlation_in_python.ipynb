{
 "cells": [
  {
   "cell_type": "markdown",
   "metadata": {},
   "source": [
    "# Project - Correlation in Python"
   ]
  },
  {
   "cell_type": "markdown",
   "metadata": {},
   "source": [
    "---"
   ]
  },
  {
   "cell_type": "markdown",
   "metadata": {},
   "source": [
    "## Importing libraries"
   ]
  },
  {
   "cell_type": "code",
   "execution_count": 1,
   "metadata": {},
   "outputs": [],
   "source": [
    "import numpy as np\n",
    "import pandas as pd\n",
    "import matplotlib.pyplot as plt\n",
    "import seaborn as sns"
   ]
  },
  {
   "cell_type": "markdown",
   "metadata": {},
   "source": [
    "## Reading dataset in pandas dataframe"
   ]
  },
  {
   "cell_type": "code",
   "execution_count": 2,
   "metadata": {},
   "outputs": [],
   "source": [
    "movies = pd.read_csv('D:/git_repositories/PythonProject1-Correlation_in_Python/Data/movies.csv')"
   ]
  },
  {
   "cell_type": "markdown",
   "metadata": {},
   "source": [
    "## Showing data"
   ]
  },
  {
   "cell_type": "code",
   "execution_count": 3,
   "metadata": {},
   "outputs": [
    {
     "data": {
      "text/html": [
       "<div>\n",
       "<style scoped>\n",
       "    .dataframe tbody tr th:only-of-type {\n",
       "        vertical-align: middle;\n",
       "    }\n",
       "\n",
       "    .dataframe tbody tr th {\n",
       "        vertical-align: top;\n",
       "    }\n",
       "\n",
       "    .dataframe thead th {\n",
       "        text-align: right;\n",
       "    }\n",
       "</style>\n",
       "<table border=\"1\" class=\"dataframe\">\n",
       "  <thead>\n",
       "    <tr style=\"text-align: right;\">\n",
       "      <th></th>\n",
       "      <th>name</th>\n",
       "      <th>rating</th>\n",
       "      <th>genre</th>\n",
       "      <th>year</th>\n",
       "      <th>released</th>\n",
       "      <th>score</th>\n",
       "      <th>votes</th>\n",
       "      <th>director</th>\n",
       "      <th>writer</th>\n",
       "      <th>star</th>\n",
       "      <th>country</th>\n",
       "      <th>budget</th>\n",
       "      <th>gross</th>\n",
       "      <th>company</th>\n",
       "      <th>runtime</th>\n",
       "    </tr>\n",
       "  </thead>\n",
       "  <tbody>\n",
       "    <tr>\n",
       "      <th>0</th>\n",
       "      <td>The Shining</td>\n",
       "      <td>R</td>\n",
       "      <td>Drama</td>\n",
       "      <td>1980</td>\n",
       "      <td>June 13, 1980 (United States)</td>\n",
       "      <td>8.4</td>\n",
       "      <td>927000.0</td>\n",
       "      <td>Stanley Kubrick</td>\n",
       "      <td>Stephen King</td>\n",
       "      <td>Jack Nicholson</td>\n",
       "      <td>United Kingdom</td>\n",
       "      <td>19000000.0</td>\n",
       "      <td>46998772.0</td>\n",
       "      <td>Warner Bros.</td>\n",
       "      <td>146.0</td>\n",
       "    </tr>\n",
       "    <tr>\n",
       "      <th>1</th>\n",
       "      <td>The Blue Lagoon</td>\n",
       "      <td>R</td>\n",
       "      <td>Adventure</td>\n",
       "      <td>1980</td>\n",
       "      <td>July 2, 1980 (United States)</td>\n",
       "      <td>5.8</td>\n",
       "      <td>65000.0</td>\n",
       "      <td>Randal Kleiser</td>\n",
       "      <td>Henry De Vere Stacpoole</td>\n",
       "      <td>Brooke Shields</td>\n",
       "      <td>United States</td>\n",
       "      <td>4500000.0</td>\n",
       "      <td>58853106.0</td>\n",
       "      <td>Columbia Pictures</td>\n",
       "      <td>104.0</td>\n",
       "    </tr>\n",
       "    <tr>\n",
       "      <th>2</th>\n",
       "      <td>Star Wars: Episode V - The Empire Strikes Back</td>\n",
       "      <td>PG</td>\n",
       "      <td>Action</td>\n",
       "      <td>1980</td>\n",
       "      <td>June 20, 1980 (United States)</td>\n",
       "      <td>8.7</td>\n",
       "      <td>1200000.0</td>\n",
       "      <td>Irvin Kershner</td>\n",
       "      <td>Leigh Brackett</td>\n",
       "      <td>Mark Hamill</td>\n",
       "      <td>United States</td>\n",
       "      <td>18000000.0</td>\n",
       "      <td>538375067.0</td>\n",
       "      <td>Lucasfilm</td>\n",
       "      <td>124.0</td>\n",
       "    </tr>\n",
       "    <tr>\n",
       "      <th>3</th>\n",
       "      <td>Airplane!</td>\n",
       "      <td>PG</td>\n",
       "      <td>Comedy</td>\n",
       "      <td>1980</td>\n",
       "      <td>July 2, 1980 (United States)</td>\n",
       "      <td>7.7</td>\n",
       "      <td>221000.0</td>\n",
       "      <td>Jim Abrahams</td>\n",
       "      <td>Jim Abrahams</td>\n",
       "      <td>Robert Hays</td>\n",
       "      <td>United States</td>\n",
       "      <td>3500000.0</td>\n",
       "      <td>83453539.0</td>\n",
       "      <td>Paramount Pictures</td>\n",
       "      <td>88.0</td>\n",
       "    </tr>\n",
       "    <tr>\n",
       "      <th>4</th>\n",
       "      <td>Caddyshack</td>\n",
       "      <td>R</td>\n",
       "      <td>Comedy</td>\n",
       "      <td>1980</td>\n",
       "      <td>July 25, 1980 (United States)</td>\n",
       "      <td>7.3</td>\n",
       "      <td>108000.0</td>\n",
       "      <td>Harold Ramis</td>\n",
       "      <td>Brian Doyle-Murray</td>\n",
       "      <td>Chevy Chase</td>\n",
       "      <td>United States</td>\n",
       "      <td>6000000.0</td>\n",
       "      <td>39846344.0</td>\n",
       "      <td>Orion Pictures</td>\n",
       "      <td>98.0</td>\n",
       "    </tr>\n",
       "  </tbody>\n",
       "</table>\n",
       "</div>"
      ],
      "text/plain": [
       "                                             name rating      genre  year  \\\n",
       "0                                     The Shining      R      Drama  1980   \n",
       "1                                 The Blue Lagoon      R  Adventure  1980   \n",
       "2  Star Wars: Episode V - The Empire Strikes Back     PG     Action  1980   \n",
       "3                                       Airplane!     PG     Comedy  1980   \n",
       "4                                      Caddyshack      R     Comedy  1980   \n",
       "\n",
       "                        released  score      votes         director  \\\n",
       "0  June 13, 1980 (United States)    8.4   927000.0  Stanley Kubrick   \n",
       "1   July 2, 1980 (United States)    5.8    65000.0   Randal Kleiser   \n",
       "2  June 20, 1980 (United States)    8.7  1200000.0   Irvin Kershner   \n",
       "3   July 2, 1980 (United States)    7.7   221000.0     Jim Abrahams   \n",
       "4  July 25, 1980 (United States)    7.3   108000.0     Harold Ramis   \n",
       "\n",
       "                    writer            star         country      budget  \\\n",
       "0             Stephen King  Jack Nicholson  United Kingdom  19000000.0   \n",
       "1  Henry De Vere Stacpoole  Brooke Shields   United States   4500000.0   \n",
       "2           Leigh Brackett     Mark Hamill   United States  18000000.0   \n",
       "3             Jim Abrahams     Robert Hays   United States   3500000.0   \n",
       "4       Brian Doyle-Murray     Chevy Chase   United States   6000000.0   \n",
       "\n",
       "         gross             company  runtime  \n",
       "0   46998772.0        Warner Bros.    146.0  \n",
       "1   58853106.0   Columbia Pictures    104.0  \n",
       "2  538375067.0           Lucasfilm    124.0  \n",
       "3   83453539.0  Paramount Pictures     88.0  \n",
       "4   39846344.0      Orion Pictures     98.0  "
      ]
     },
     "execution_count": 3,
     "metadata": {},
     "output_type": "execute_result"
    }
   ],
   "source": [
    "movies.head()"
   ]
  },
  {
   "cell_type": "markdown",
   "metadata": {},
   "source": [
    "## Total rows and columns in the data"
   ]
  },
  {
   "cell_type": "code",
   "execution_count": 4,
   "metadata": {},
   "outputs": [
    {
     "name": "stdout",
     "output_type": "stream",
     "text": [
      "There are total 7668 rows and 15 columns in this movies dataset.\n"
     ]
    }
   ],
   "source": [
    "print(\"There are total \" + str(movies.shape[0]) + \" rows and \" + str(movies.shape[1]) + \" columns in this movies dataset.\")"
   ]
  },
  {
   "cell_type": "markdown",
   "metadata": {},
   "source": [
    "## Data cleaning"
   ]
  },
  {
   "cell_type": "markdown",
   "metadata": {},
   "source": [
    "---"
   ]
  },
  {
   "cell_type": "markdown",
   "metadata": {},
   "source": [
    "## Looking at the data types"
   ]
  },
  {
   "cell_type": "code",
   "execution_count": 5,
   "metadata": {},
   "outputs": [
    {
     "data": {
      "text/plain": [
       "name         object\n",
       "rating       object\n",
       "genre        object\n",
       "year          int64\n",
       "released     object\n",
       "score       float64\n",
       "votes       float64\n",
       "director     object\n",
       "writer       object\n",
       "star         object\n",
       "country      object\n",
       "budget      float64\n",
       "gross       float64\n",
       "company      object\n",
       "runtime     float64\n",
       "dtype: object"
      ]
     },
     "execution_count": 5,
     "metadata": {},
     "output_type": "execute_result"
    }
   ],
   "source": [
    "movies.dtypes"
   ]
  },
  {
   "cell_type": "markdown",
   "metadata": {},
   "source": [
    "## Looking for missing data"
   ]
  },
  {
   "cell_type": "code",
   "execution_count": 6,
   "metadata": {},
   "outputs": [
    {
     "data": {
      "text/plain": [
       "name           0\n",
       "rating        77\n",
       "genre          0\n",
       "year           0\n",
       "released       2\n",
       "score          3\n",
       "votes          3\n",
       "director       0\n",
       "writer         3\n",
       "star           1\n",
       "country        3\n",
       "budget      2171\n",
       "gross        189\n",
       "company       17\n",
       "runtime        4\n",
       "dtype: int64"
      ]
     },
     "execution_count": 6,
     "metadata": {},
     "output_type": "execute_result"
    }
   ],
   "source": [
    "movies.isna().sum()"
   ]
  },
  {
   "cell_type": "markdown",
   "metadata": {},
   "source": [
    "## Dropping the missing values"
   ]
  },
  {
   "cell_type": "code",
   "execution_count": 7,
   "metadata": {},
   "outputs": [],
   "source": [
    "movies = movies.dropna()"
   ]
  },
  {
   "cell_type": "code",
   "execution_count": 8,
   "metadata": {},
   "outputs": [
    {
     "name": "stdout",
     "output_type": "stream",
     "text": [
      "<class 'pandas.core.frame.DataFrame'>\n",
      "Int64Index: 5421 entries, 0 to 7652\n",
      "Data columns (total 15 columns):\n",
      " #   Column    Non-Null Count  Dtype  \n",
      "---  ------    --------------  -----  \n",
      " 0   name      5421 non-null   object \n",
      " 1   rating    5421 non-null   object \n",
      " 2   genre     5421 non-null   object \n",
      " 3   year      5421 non-null   int64  \n",
      " 4   released  5421 non-null   object \n",
      " 5   score     5421 non-null   float64\n",
      " 6   votes     5421 non-null   float64\n",
      " 7   director  5421 non-null   object \n",
      " 8   writer    5421 non-null   object \n",
      " 9   star      5421 non-null   object \n",
      " 10  country   5421 non-null   object \n",
      " 11  budget    5421 non-null   float64\n",
      " 12  gross     5421 non-null   float64\n",
      " 13  company   5421 non-null   object \n",
      " 14  runtime   5421 non-null   float64\n",
      "dtypes: float64(5), int64(1), object(9)\n",
      "memory usage: 677.6+ KB\n"
     ]
    }
   ],
   "source": [
    "movies.info()"
   ]
  },
  {
   "cell_type": "markdown",
   "metadata": {},
   "source": [
    "## Changing data type of some columns"
   ]
  },
  {
   "cell_type": "code",
   "execution_count": 9,
   "metadata": {},
   "outputs": [],
   "source": [
    "# changing budget column data type from float to int\n",
    "movies['budget'] = movies['budget'].astype('int64')\n",
    "\n",
    "# changing votes column data type from float to int\n",
    "movies['votes'] = movies['votes'].astype('int64')\n",
    "\n",
    "# changing gross column data type from float to int\n",
    "movies['gross'] = movies['gross'].astype('int64')"
   ]
  },
  {
   "cell_type": "markdown",
   "metadata": {},
   "source": [
    "## Creating correct year column based on released date column"
   ]
  },
  {
   "cell_type": "code",
   "execution_count": 18,
   "metadata": {},
   "outputs": [],
   "source": [
    "movies['yearcorrect'] = movies['released'].str.extract(pat = '([0-9]{4})').astype(int)"
   ]
  },
  {
   "cell_type": "code",
   "execution_count": 19,
   "metadata": {},
   "outputs": [
    {
     "data": {
      "text/html": [
       "<div>\n",
       "<style scoped>\n",
       "    .dataframe tbody tr th:only-of-type {\n",
       "        vertical-align: middle;\n",
       "    }\n",
       "\n",
       "    .dataframe tbody tr th {\n",
       "        vertical-align: top;\n",
       "    }\n",
       "\n",
       "    .dataframe thead th {\n",
       "        text-align: right;\n",
       "    }\n",
       "</style>\n",
       "<table border=\"1\" class=\"dataframe\">\n",
       "  <thead>\n",
       "    <tr style=\"text-align: right;\">\n",
       "      <th></th>\n",
       "      <th>name</th>\n",
       "      <th>rating</th>\n",
       "      <th>genre</th>\n",
       "      <th>year</th>\n",
       "      <th>released</th>\n",
       "      <th>score</th>\n",
       "      <th>votes</th>\n",
       "      <th>director</th>\n",
       "      <th>writer</th>\n",
       "      <th>star</th>\n",
       "      <th>country</th>\n",
       "      <th>budget</th>\n",
       "      <th>gross</th>\n",
       "      <th>company</th>\n",
       "      <th>runtime</th>\n",
       "      <th>yearcorrect</th>\n",
       "    </tr>\n",
       "  </thead>\n",
       "  <tbody>\n",
       "    <tr>\n",
       "      <th>0</th>\n",
       "      <td>The Shining</td>\n",
       "      <td>R</td>\n",
       "      <td>Drama</td>\n",
       "      <td>1980</td>\n",
       "      <td>June 13, 1980 (United States)</td>\n",
       "      <td>8.4</td>\n",
       "      <td>927000</td>\n",
       "      <td>Stanley Kubrick</td>\n",
       "      <td>Stephen King</td>\n",
       "      <td>Jack Nicholson</td>\n",
       "      <td>United Kingdom</td>\n",
       "      <td>19000000</td>\n",
       "      <td>46998772</td>\n",
       "      <td>Warner Bros.</td>\n",
       "      <td>146.0</td>\n",
       "      <td>1980</td>\n",
       "    </tr>\n",
       "    <tr>\n",
       "      <th>1</th>\n",
       "      <td>The Blue Lagoon</td>\n",
       "      <td>R</td>\n",
       "      <td>Adventure</td>\n",
       "      <td>1980</td>\n",
       "      <td>July 2, 1980 (United States)</td>\n",
       "      <td>5.8</td>\n",
       "      <td>65000</td>\n",
       "      <td>Randal Kleiser</td>\n",
       "      <td>Henry De Vere Stacpoole</td>\n",
       "      <td>Brooke Shields</td>\n",
       "      <td>United States</td>\n",
       "      <td>4500000</td>\n",
       "      <td>58853106</td>\n",
       "      <td>Columbia Pictures</td>\n",
       "      <td>104.0</td>\n",
       "      <td>1980</td>\n",
       "    </tr>\n",
       "    <tr>\n",
       "      <th>2</th>\n",
       "      <td>Star Wars: Episode V - The Empire Strikes Back</td>\n",
       "      <td>PG</td>\n",
       "      <td>Action</td>\n",
       "      <td>1980</td>\n",
       "      <td>June 20, 1980 (United States)</td>\n",
       "      <td>8.7</td>\n",
       "      <td>1200000</td>\n",
       "      <td>Irvin Kershner</td>\n",
       "      <td>Leigh Brackett</td>\n",
       "      <td>Mark Hamill</td>\n",
       "      <td>United States</td>\n",
       "      <td>18000000</td>\n",
       "      <td>538375067</td>\n",
       "      <td>Lucasfilm</td>\n",
       "      <td>124.0</td>\n",
       "      <td>1980</td>\n",
       "    </tr>\n",
       "    <tr>\n",
       "      <th>3</th>\n",
       "      <td>Airplane!</td>\n",
       "      <td>PG</td>\n",
       "      <td>Comedy</td>\n",
       "      <td>1980</td>\n",
       "      <td>July 2, 1980 (United States)</td>\n",
       "      <td>7.7</td>\n",
       "      <td>221000</td>\n",
       "      <td>Jim Abrahams</td>\n",
       "      <td>Jim Abrahams</td>\n",
       "      <td>Robert Hays</td>\n",
       "      <td>United States</td>\n",
       "      <td>3500000</td>\n",
       "      <td>83453539</td>\n",
       "      <td>Paramount Pictures</td>\n",
       "      <td>88.0</td>\n",
       "      <td>1980</td>\n",
       "    </tr>\n",
       "    <tr>\n",
       "      <th>4</th>\n",
       "      <td>Caddyshack</td>\n",
       "      <td>R</td>\n",
       "      <td>Comedy</td>\n",
       "      <td>1980</td>\n",
       "      <td>July 25, 1980 (United States)</td>\n",
       "      <td>7.3</td>\n",
       "      <td>108000</td>\n",
       "      <td>Harold Ramis</td>\n",
       "      <td>Brian Doyle-Murray</td>\n",
       "      <td>Chevy Chase</td>\n",
       "      <td>United States</td>\n",
       "      <td>6000000</td>\n",
       "      <td>39846344</td>\n",
       "      <td>Orion Pictures</td>\n",
       "      <td>98.0</td>\n",
       "      <td>1980</td>\n",
       "    </tr>\n",
       "  </tbody>\n",
       "</table>\n",
       "</div>"
      ],
      "text/plain": [
       "                                             name rating      genre  year  \\\n",
       "0                                     The Shining      R      Drama  1980   \n",
       "1                                 The Blue Lagoon      R  Adventure  1980   \n",
       "2  Star Wars: Episode V - The Empire Strikes Back     PG     Action  1980   \n",
       "3                                       Airplane!     PG     Comedy  1980   \n",
       "4                                      Caddyshack      R     Comedy  1980   \n",
       "\n",
       "                        released  score    votes         director  \\\n",
       "0  June 13, 1980 (United States)    8.4   927000  Stanley Kubrick   \n",
       "1   July 2, 1980 (United States)    5.8    65000   Randal Kleiser   \n",
       "2  June 20, 1980 (United States)    8.7  1200000   Irvin Kershner   \n",
       "3   July 2, 1980 (United States)    7.7   221000     Jim Abrahams   \n",
       "4  July 25, 1980 (United States)    7.3   108000     Harold Ramis   \n",
       "\n",
       "                    writer            star         country    budget  \\\n",
       "0             Stephen King  Jack Nicholson  United Kingdom  19000000   \n",
       "1  Henry De Vere Stacpoole  Brooke Shields   United States   4500000   \n",
       "2           Leigh Brackett     Mark Hamill   United States  18000000   \n",
       "3             Jim Abrahams     Robert Hays   United States   3500000   \n",
       "4       Brian Doyle-Murray     Chevy Chase   United States   6000000   \n",
       "\n",
       "       gross             company  runtime  yearcorrect  \n",
       "0   46998772        Warner Bros.    146.0         1980  \n",
       "1   58853106   Columbia Pictures    104.0         1980  \n",
       "2  538375067           Lucasfilm    124.0         1980  \n",
       "3   83453539  Paramount Pictures     88.0         1980  \n",
       "4   39846344      Orion Pictures     98.0         1980  "
      ]
     },
     "execution_count": 19,
     "metadata": {},
     "output_type": "execute_result"
    }
   ],
   "source": [
    "movies.head()"
   ]
  },
  {
   "cell_type": "markdown",
   "metadata": {},
   "source": [
    "## Dropping previous year column"
   ]
  },
  {
   "cell_type": "code",
   "execution_count": 22,
   "metadata": {},
   "outputs": [],
   "source": [
    "movies_new = movies.drop('year', axis = 1)"
   ]
  },
  {
   "cell_type": "code",
   "execution_count": 29,
   "metadata": {},
   "outputs": [
    {
     "data": {
      "text/html": [
       "<div>\n",
       "<style scoped>\n",
       "    .dataframe tbody tr th:only-of-type {\n",
       "        vertical-align: middle;\n",
       "    }\n",
       "\n",
       "    .dataframe tbody tr th {\n",
       "        vertical-align: top;\n",
       "    }\n",
       "\n",
       "    .dataframe thead th {\n",
       "        text-align: right;\n",
       "    }\n",
       "</style>\n",
       "<table border=\"1\" class=\"dataframe\">\n",
       "  <thead>\n",
       "    <tr style=\"text-align: right;\">\n",
       "      <th></th>\n",
       "      <th>name</th>\n",
       "      <th>rating</th>\n",
       "      <th>genre</th>\n",
       "      <th>released</th>\n",
       "      <th>score</th>\n",
       "      <th>votes</th>\n",
       "      <th>director</th>\n",
       "      <th>writer</th>\n",
       "      <th>star</th>\n",
       "      <th>country</th>\n",
       "      <th>budget</th>\n",
       "      <th>gross</th>\n",
       "      <th>company</th>\n",
       "      <th>runtime</th>\n",
       "      <th>yearcorrect</th>\n",
       "    </tr>\n",
       "  </thead>\n",
       "  <tbody>\n",
       "    <tr>\n",
       "      <th>0</th>\n",
       "      <td>The Shining</td>\n",
       "      <td>R</td>\n",
       "      <td>Drama</td>\n",
       "      <td>June 13, 1980 (United States)</td>\n",
       "      <td>8.4</td>\n",
       "      <td>927000</td>\n",
       "      <td>Stanley Kubrick</td>\n",
       "      <td>Stephen King</td>\n",
       "      <td>Jack Nicholson</td>\n",
       "      <td>United Kingdom</td>\n",
       "      <td>19000000</td>\n",
       "      <td>46998772</td>\n",
       "      <td>Warner Bros.</td>\n",
       "      <td>146.0</td>\n",
       "      <td>1980</td>\n",
       "    </tr>\n",
       "    <tr>\n",
       "      <th>1</th>\n",
       "      <td>The Blue Lagoon</td>\n",
       "      <td>R</td>\n",
       "      <td>Adventure</td>\n",
       "      <td>July 2, 1980 (United States)</td>\n",
       "      <td>5.8</td>\n",
       "      <td>65000</td>\n",
       "      <td>Randal Kleiser</td>\n",
       "      <td>Henry De Vere Stacpoole</td>\n",
       "      <td>Brooke Shields</td>\n",
       "      <td>United States</td>\n",
       "      <td>4500000</td>\n",
       "      <td>58853106</td>\n",
       "      <td>Columbia Pictures</td>\n",
       "      <td>104.0</td>\n",
       "      <td>1980</td>\n",
       "    </tr>\n",
       "    <tr>\n",
       "      <th>2</th>\n",
       "      <td>Star Wars: Episode V - The Empire Strikes Back</td>\n",
       "      <td>PG</td>\n",
       "      <td>Action</td>\n",
       "      <td>June 20, 1980 (United States)</td>\n",
       "      <td>8.7</td>\n",
       "      <td>1200000</td>\n",
       "      <td>Irvin Kershner</td>\n",
       "      <td>Leigh Brackett</td>\n",
       "      <td>Mark Hamill</td>\n",
       "      <td>United States</td>\n",
       "      <td>18000000</td>\n",
       "      <td>538375067</td>\n",
       "      <td>Lucasfilm</td>\n",
       "      <td>124.0</td>\n",
       "      <td>1980</td>\n",
       "    </tr>\n",
       "    <tr>\n",
       "      <th>3</th>\n",
       "      <td>Airplane!</td>\n",
       "      <td>PG</td>\n",
       "      <td>Comedy</td>\n",
       "      <td>July 2, 1980 (United States)</td>\n",
       "      <td>7.7</td>\n",
       "      <td>221000</td>\n",
       "      <td>Jim Abrahams</td>\n",
       "      <td>Jim Abrahams</td>\n",
       "      <td>Robert Hays</td>\n",
       "      <td>United States</td>\n",
       "      <td>3500000</td>\n",
       "      <td>83453539</td>\n",
       "      <td>Paramount Pictures</td>\n",
       "      <td>88.0</td>\n",
       "      <td>1980</td>\n",
       "    </tr>\n",
       "    <tr>\n",
       "      <th>4</th>\n",
       "      <td>Caddyshack</td>\n",
       "      <td>R</td>\n",
       "      <td>Comedy</td>\n",
       "      <td>July 25, 1980 (United States)</td>\n",
       "      <td>7.3</td>\n",
       "      <td>108000</td>\n",
       "      <td>Harold Ramis</td>\n",
       "      <td>Brian Doyle-Murray</td>\n",
       "      <td>Chevy Chase</td>\n",
       "      <td>United States</td>\n",
       "      <td>6000000</td>\n",
       "      <td>39846344</td>\n",
       "      <td>Orion Pictures</td>\n",
       "      <td>98.0</td>\n",
       "      <td>1980</td>\n",
       "    </tr>\n",
       "  </tbody>\n",
       "</table>\n",
       "</div>"
      ],
      "text/plain": [
       "                                             name rating      genre  \\\n",
       "0                                     The Shining      R      Drama   \n",
       "1                                 The Blue Lagoon      R  Adventure   \n",
       "2  Star Wars: Episode V - The Empire Strikes Back     PG     Action   \n",
       "3                                       Airplane!     PG     Comedy   \n",
       "4                                      Caddyshack      R     Comedy   \n",
       "\n",
       "                        released  score    votes         director  \\\n",
       "0  June 13, 1980 (United States)    8.4   927000  Stanley Kubrick   \n",
       "1   July 2, 1980 (United States)    5.8    65000   Randal Kleiser   \n",
       "2  June 20, 1980 (United States)    8.7  1200000   Irvin Kershner   \n",
       "3   July 2, 1980 (United States)    7.7   221000     Jim Abrahams   \n",
       "4  July 25, 1980 (United States)    7.3   108000     Harold Ramis   \n",
       "\n",
       "                    writer            star         country    budget  \\\n",
       "0             Stephen King  Jack Nicholson  United Kingdom  19000000   \n",
       "1  Henry De Vere Stacpoole  Brooke Shields   United States   4500000   \n",
       "2           Leigh Brackett     Mark Hamill   United States  18000000   \n",
       "3             Jim Abrahams     Robert Hays   United States   3500000   \n",
       "4       Brian Doyle-Murray     Chevy Chase   United States   6000000   \n",
       "\n",
       "       gross             company  runtime  yearcorrect  \n",
       "0   46998772        Warner Bros.    146.0         1980  \n",
       "1   58853106   Columbia Pictures    104.0         1980  \n",
       "2  538375067           Lucasfilm    124.0         1980  \n",
       "3   83453539  Paramount Pictures     88.0         1980  \n",
       "4   39846344      Orion Pictures     98.0         1980  "
      ]
     },
     "execution_count": 29,
     "metadata": {},
     "output_type": "execute_result"
    }
   ],
   "source": [
    "movies_new.head()"
   ]
  }
 ],
 "metadata": {
  "kernelspec": {
   "display_name": "Python 3.10.4 64-bit",
   "language": "python",
   "name": "python3"
  },
  "language_info": {
   "codemirror_mode": {
    "name": "ipython",
    "version": 3
   },
   "file_extension": ".py",
   "mimetype": "text/x-python",
   "name": "python",
   "nbconvert_exporter": "python",
   "pygments_lexer": "ipython3",
   "version": "3.10.4"
  },
  "orig_nbformat": 4,
  "vscode": {
   "interpreter": {
    "hash": "689ce70f491755004657c62a40aa913e1005ad46291934f1e8a350e575c2ff73"
   }
  }
 },
 "nbformat": 4,
 "nbformat_minor": 2
}
